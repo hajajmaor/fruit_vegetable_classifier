{
 "metadata": {
  "language_info": {
   "codemirror_mode": {
    "name": "ipython",
    "version": 3
   },
   "file_extension": ".py",
   "mimetype": "text/x-python",
   "name": "python",
   "nbconvert_exporter": "python",
   "pygments_lexer": "ipython3",
   "version": "3.8.6-final"
  },
  "orig_nbformat": 2,
  "kernelspec": {
   "name": "Python 3.8.6 64-bit",
   "display_name": "Python 3.8.6 64-bit",
   "metadata": {
    "interpreter": {
     "hash": "16be8f242188a59a7ad4ffbd3ee205a66c3532a719f08bcb974de3fb975469e1"
    }
   }
  }
 },
 "nbformat": 4,
 "nbformat_minor": 2,
 "cells": [
  {
   "cell_type": "code",
   "execution_count": 1,
   "metadata": {},
   "outputs": [],
   "source": [
    "import tensorflow as tf\n",
    "import os"
   ]
  },
  {
   "cell_type": "code",
   "execution_count": 2,
   "metadata": {},
   "outputs": [],
   "source": [
    "base_dir='./content/fruits-360/Training'"
   ]
  },
  {
   "cell_type": "code",
   "execution_count": 3,
   "metadata": {},
   "outputs": [],
   "source": [
    "_IMAGE_SIZE=224\n",
    "_BATCH_SIZE=64\n"
   ]
  },
  {
   "cell_type": "code",
   "execution_count": 4,
   "metadata": {},
   "outputs": [],
   "source": [
    "# splitted to training and validation\n",
    "data_gen=tf.keras.preprocessing.image.ImageDataGenerator(\n",
    "    rescale=1./255,\n",
    "    rotation_range=30,\n",
    "    width_shift_range=0.3,\n",
    "    height_shift_range=0.3,\n",
    "    horizontal_flip=True,\n",
    "    fill_mode='nearest',\n",
    "    validation_split=0.1\n",
    ")"
   ]
  },
  {
   "cell_type": "code",
   "execution_count": 5,
   "metadata": {},
   "outputs": [
    {
     "output_type": "stream",
     "name": "stdout",
     "text": [
      "Found 60955 images belonging to 131 classes.\n"
     ]
    }
   ],
   "source": [
    "# 90% train =>\n",
    "\n",
    "train_gen=data_gen.flow_from_directory(\n",
    "    base_dir,\n",
    "target_size=(_IMAGE_SIZE,_IMAGE_SIZE),\n",
    "batch_size=_BATCH_SIZE,\n",
    "subset='training'\n",
    ")"
   ]
  },
  {
   "cell_type": "code",
   "execution_count": 6,
   "metadata": {},
   "outputs": [],
   "source": [
    "# check for 131 keys\n",
    "#\n",
    "# train_gen.class_indices "
   ]
  },
  {
   "cell_type": "code",
   "execution_count": 7,
   "metadata": {},
   "outputs": [],
   "source": [
    "lables='\\n'.join(sorted(train_gen.class_indices.keys()))\n",
    "with open('labels.txt','w') as f:\n",
    "    f.write(lables)\n",
    "\n",
    "#del from memory\n",
    "del lables"
   ]
  },
  {
   "cell_type": "code",
   "execution_count": 8,
   "metadata": {},
   "outputs": [
    {
     "output_type": "stream",
     "name": "stdout",
     "text": [
      "Found 6737 images belonging to 131 classes.\n"
     ]
    }
   ],
   "source": [
    "# 10% validation =>\n",
    "\n",
    "val_gen=data_gen.flow_from_directory(\n",
    "    base_dir,\n",
    "target_size=(_IMAGE_SIZE,_IMAGE_SIZE),\n",
    "batch_size=_BATCH_SIZE,\n",
    "subset='validation'\n",
    ")"
   ]
  },
  {
   "cell_type": "code",
   "execution_count": 9,
   "metadata": {},
   "outputs": [],
   "source": [
    "_IMG_SHAPE=(_IMAGE_SIZE,_IMAGE_SIZE,3)\n",
    "base_model=tf.keras.applications.MobileNetV2(\n",
    "    input_shape=_IMG_SHAPE,\n",
    "    include_top=False,\n",
    "    weights='imagenet'\n",
    "    )"
   ]
  },
  {
   "cell_type": "code",
   "execution_count": 10,
   "metadata": {},
   "outputs": [],
   "source": [
    "base_model.trainable=False"
   ]
  },
  {
   "cell_type": "code",
   "execution_count": 11,
   "metadata": {},
   "outputs": [],
   "source": [
    "#short import to make the next command shorter\n",
    "from tensorflow.keras import layers\n",
    "\n",
    "# 5 = num of classes\n",
    "model=tf.keras.Sequential([\n",
    "    base_model,\n",
    "layers.Conv2D(32,3,activation='relu'),\n",
    "layers.Dropout(0.2),\n",
    "layers.GlobalAveragePooling2D(),\n",
    "layers.Dense(131,\n",
    "    activation='softmax'\n",
    ")\n",
    "])"
   ]
  },
  {
   "cell_type": "code",
   "execution_count": 12,
   "metadata": {},
   "outputs": [],
   "source": [
    "model.compile(\n",
    "optimizer=tf.keras.optimizers.Adam(),loss='categorical_crossentropy',\n",
    "metrics=['accuracy']\n",
    " )"
   ]
  },
  {
   "cell_type": "code",
   "execution_count": null,
   "metadata": {},
   "outputs": [],
   "source": [
    "#fitting the model\n",
    "epochs=10\n",
    "history=model.fit(\n",
    "    train_gen,\n",
    "    epochs=epochs,\n",
    "    steps_per_epoch=200,\n",
    "    validation_data=val_gen\n",
    "    )"
   ]
  },
  {
   "cell_type": "code",
   "execution_count": null,
   "metadata": {},
   "outputs": [],
   "source": [
    "saved_model_dir=''\n",
    "tf.saved_model.save(model,saved_model_dir)\n",
    "converter=tf.lite.TFLiteConverter.from_saved_model(saved_model_dir)\n",
    "tflite_model=converter.convert()\n",
    "\n",
    "with open('model.tflite','wb') as f:\n",
    "    f.write(tflite_model)"
   ]
  },
  {
   "cell_type": "code",
   "execution_count": null,
   "metadata": {},
   "outputs": [],
   "source": []
  },
  {
   "cell_type": "code",
   "execution_count": null,
   "metadata": {},
   "outputs": [],
   "source": [
    "# in the project dir there will be many new files \n",
    "# we want only the labels.txt and model.tflite files."
   ]
  },
  {
   "cell_type": "code",
   "execution_count": null,
   "metadata": {},
   "outputs": [],
   "source": [
    "# in the video he used commands to download from the colab website\n",
    "# i've done it localy, so just copy to the assets folder in the flutter projects."
   ]
  }
 ]
}